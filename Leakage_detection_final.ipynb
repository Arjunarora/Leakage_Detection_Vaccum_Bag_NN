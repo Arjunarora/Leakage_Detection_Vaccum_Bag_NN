{
  "cells": [
    {
      "cell_type": "code",
      "execution_count": 2,
      "metadata": {
        "colab": {
          "base_uri": "https://localhost:8080/"
        },
        "id": "ewlZhtiflboC",
        "outputId": "f72f7c6b-c353-44f6-e2cb-1c5489dcf620"
      },
      "outputs": [
        {
          "output_type": "stream",
          "name": "stdout",
          "text": [
            "Looking in indexes: https://pypi.org/simple, https://us-python.pkg.dev/colab-wheels/public/simple/\n",
            "Requirement already satisfied: keras-tuner in /usr/local/lib/python3.8/dist-packages (1.2.1)\n",
            "Requirement already satisfied: tensorflow>=2.0 in /usr/local/lib/python3.8/dist-packages (from keras-tuner) (2.11.0)\n",
            "Requirement already satisfied: kt-legacy in /usr/local/lib/python3.8/dist-packages (from keras-tuner) (1.0.4)\n",
            "Requirement already satisfied: requests in /usr/local/lib/python3.8/dist-packages (from keras-tuner) (2.25.1)\n",
            "Requirement already satisfied: ipython in /usr/local/lib/python3.8/dist-packages (from keras-tuner) (7.9.0)\n",
            "Requirement already satisfied: packaging in /usr/local/lib/python3.8/dist-packages (from keras-tuner) (23.0)\n",
            "Requirement already satisfied: google-pasta>=0.1.1 in /usr/local/lib/python3.8/dist-packages (from tensorflow>=2.0->keras-tuner) (0.2.0)\n",
            "Requirement already satisfied: gast<=0.4.0,>=0.2.1 in /usr/local/lib/python3.8/dist-packages (from tensorflow>=2.0->keras-tuner) (0.4.0)\n",
            "Requirement already satisfied: keras<2.12,>=2.11.0 in /usr/local/lib/python3.8/dist-packages (from tensorflow>=2.0->keras-tuner) (2.11.0)\n",
            "Requirement already satisfied: numpy>=1.20 in /usr/local/lib/python3.8/dist-packages (from tensorflow>=2.0->keras-tuner) (1.22.4)\n",
            "Requirement already satisfied: tensorflow-estimator<2.12,>=2.11.0 in /usr/local/lib/python3.8/dist-packages (from tensorflow>=2.0->keras-tuner) (2.11.0)\n",
            "Requirement already satisfied: astunparse>=1.6.0 in /usr/local/lib/python3.8/dist-packages (from tensorflow>=2.0->keras-tuner) (1.6.3)\n",
            "Requirement already satisfied: libclang>=13.0.0 in /usr/local/lib/python3.8/dist-packages (from tensorflow>=2.0->keras-tuner) (15.0.6.1)\n",
            "Requirement already satisfied: six>=1.12.0 in /usr/local/lib/python3.8/dist-packages (from tensorflow>=2.0->keras-tuner) (1.15.0)\n",
            "Requirement already satisfied: absl-py>=1.0.0 in /usr/local/lib/python3.8/dist-packages (from tensorflow>=2.0->keras-tuner) (1.4.0)\n",
            "Requirement already satisfied: grpcio<2.0,>=1.24.3 in /usr/local/lib/python3.8/dist-packages (from tensorflow>=2.0->keras-tuner) (1.51.1)\n",
            "Requirement already satisfied: tensorflow-io-gcs-filesystem>=0.23.1 in /usr/local/lib/python3.8/dist-packages (from tensorflow>=2.0->keras-tuner) (0.30.0)\n",
            "Requirement already satisfied: setuptools in /usr/local/lib/python3.8/dist-packages (from tensorflow>=2.0->keras-tuner) (57.4.0)\n",
            "Requirement already satisfied: opt-einsum>=2.3.2 in /usr/local/lib/python3.8/dist-packages (from tensorflow>=2.0->keras-tuner) (3.3.0)\n",
            "Requirement already satisfied: termcolor>=1.1.0 in /usr/local/lib/python3.8/dist-packages (from tensorflow>=2.0->keras-tuner) (2.2.0)\n",
            "Requirement already satisfied: wrapt>=1.11.0 in /usr/local/lib/python3.8/dist-packages (from tensorflow>=2.0->keras-tuner) (1.14.1)\n",
            "Requirement already satisfied: protobuf<3.20,>=3.9.2 in /usr/local/lib/python3.8/dist-packages (from tensorflow>=2.0->keras-tuner) (3.19.6)\n",
            "Requirement already satisfied: typing-extensions>=3.6.6 in /usr/local/lib/python3.8/dist-packages (from tensorflow>=2.0->keras-tuner) (4.5.0)\n",
            "Requirement already satisfied: flatbuffers>=2.0 in /usr/local/lib/python3.8/dist-packages (from tensorflow>=2.0->keras-tuner) (23.1.21)\n",
            "Requirement already satisfied: h5py>=2.9.0 in /usr/local/lib/python3.8/dist-packages (from tensorflow>=2.0->keras-tuner) (3.1.0)\n",
            "Requirement already satisfied: tensorboard<2.12,>=2.11 in /usr/local/lib/python3.8/dist-packages (from tensorflow>=2.0->keras-tuner) (2.11.2)\n",
            "Requirement already satisfied: backcall in /usr/local/lib/python3.8/dist-packages (from ipython->keras-tuner) (0.2.0)\n",
            "Requirement already satisfied: traitlets>=4.2 in /usr/local/lib/python3.8/dist-packages (from ipython->keras-tuner) (5.7.1)\n",
            "Requirement already satisfied: jedi>=0.10 in /usr/local/lib/python3.8/dist-packages (from ipython->keras-tuner) (0.18.2)\n",
            "Requirement already satisfied: decorator in /usr/local/lib/python3.8/dist-packages (from ipython->keras-tuner) (4.4.2)\n",
            "Requirement already satisfied: pexpect in /usr/local/lib/python3.8/dist-packages (from ipython->keras-tuner) (4.8.0)\n",
            "Requirement already satisfied: prompt-toolkit<2.1.0,>=2.0.0 in /usr/local/lib/python3.8/dist-packages (from ipython->keras-tuner) (2.0.10)\n",
            "Requirement already satisfied: pickleshare in /usr/local/lib/python3.8/dist-packages (from ipython->keras-tuner) (0.7.5)\n",
            "Requirement already satisfied: pygments in /usr/local/lib/python3.8/dist-packages (from ipython->keras-tuner) (2.6.1)\n",
            "Requirement already satisfied: chardet<5,>=3.0.2 in /usr/local/lib/python3.8/dist-packages (from requests->keras-tuner) (4.0.0)\n",
            "Requirement already satisfied: urllib3<1.27,>=1.21.1 in /usr/local/lib/python3.8/dist-packages (from requests->keras-tuner) (1.24.3)\n",
            "Requirement already satisfied: idna<3,>=2.5 in /usr/local/lib/python3.8/dist-packages (from requests->keras-tuner) (2.10)\n",
            "Requirement already satisfied: certifi>=2017.4.17 in /usr/local/lib/python3.8/dist-packages (from requests->keras-tuner) (2022.12.7)\n",
            "Requirement already satisfied: wheel<1.0,>=0.23.0 in /usr/local/lib/python3.8/dist-packages (from astunparse>=1.6.0->tensorflow>=2.0->keras-tuner) (0.38.4)\n",
            "Requirement already satisfied: parso<0.9.0,>=0.8.0 in /usr/local/lib/python3.8/dist-packages (from jedi>=0.10->ipython->keras-tuner) (0.8.3)\n",
            "Requirement already satisfied: wcwidth in /usr/local/lib/python3.8/dist-packages (from prompt-toolkit<2.1.0,>=2.0.0->ipython->keras-tuner) (0.2.6)\n",
            "Requirement already satisfied: markdown>=2.6.8 in /usr/local/lib/python3.8/dist-packages (from tensorboard<2.12,>=2.11->tensorflow>=2.0->keras-tuner) (3.4.1)\n",
            "Requirement already satisfied: tensorboard-data-server<0.7.0,>=0.6.0 in /usr/local/lib/python3.8/dist-packages (from tensorboard<2.12,>=2.11->tensorflow>=2.0->keras-tuner) (0.6.1)\n",
            "Requirement already satisfied: tensorboard-plugin-wit>=1.6.0 in /usr/local/lib/python3.8/dist-packages (from tensorboard<2.12,>=2.11->tensorflow>=2.0->keras-tuner) (1.8.1)\n",
            "Requirement already satisfied: werkzeug>=1.0.1 in /usr/local/lib/python3.8/dist-packages (from tensorboard<2.12,>=2.11->tensorflow>=2.0->keras-tuner) (1.0.1)\n",
            "Requirement already satisfied: google-auth<3,>=1.6.3 in /usr/local/lib/python3.8/dist-packages (from tensorboard<2.12,>=2.11->tensorflow>=2.0->keras-tuner) (2.16.0)\n",
            "Requirement already satisfied: google-auth-oauthlib<0.5,>=0.4.1 in /usr/local/lib/python3.8/dist-packages (from tensorboard<2.12,>=2.11->tensorflow>=2.0->keras-tuner) (0.4.6)\n",
            "Requirement already satisfied: ptyprocess>=0.5 in /usr/local/lib/python3.8/dist-packages (from pexpect->ipython->keras-tuner) (0.7.0)\n",
            "Requirement already satisfied: rsa<5,>=3.1.4 in /usr/local/lib/python3.8/dist-packages (from google-auth<3,>=1.6.3->tensorboard<2.12,>=2.11->tensorflow>=2.0->keras-tuner) (4.9)\n",
            "Requirement already satisfied: cachetools<6.0,>=2.0.0 in /usr/local/lib/python3.8/dist-packages (from google-auth<3,>=1.6.3->tensorboard<2.12,>=2.11->tensorflow>=2.0->keras-tuner) (5.3.0)\n",
            "Requirement already satisfied: pyasn1-modules>=0.2.1 in /usr/local/lib/python3.8/dist-packages (from google-auth<3,>=1.6.3->tensorboard<2.12,>=2.11->tensorflow>=2.0->keras-tuner) (0.2.8)\n",
            "Requirement already satisfied: requests-oauthlib>=0.7.0 in /usr/local/lib/python3.8/dist-packages (from google-auth-oauthlib<0.5,>=0.4.1->tensorboard<2.12,>=2.11->tensorflow>=2.0->keras-tuner) (1.3.1)\n",
            "Requirement already satisfied: importlib-metadata>=4.4 in /usr/local/lib/python3.8/dist-packages (from markdown>=2.6.8->tensorboard<2.12,>=2.11->tensorflow>=2.0->keras-tuner) (6.0.0)\n",
            "Requirement already satisfied: zipp>=0.5 in /usr/local/lib/python3.8/dist-packages (from importlib-metadata>=4.4->markdown>=2.6.8->tensorboard<2.12,>=2.11->tensorflow>=2.0->keras-tuner) (3.13.0)\n",
            "Requirement already satisfied: pyasn1<0.5.0,>=0.4.6 in /usr/local/lib/python3.8/dist-packages (from pyasn1-modules>=0.2.1->google-auth<3,>=1.6.3->tensorboard<2.12,>=2.11->tensorflow>=2.0->keras-tuner) (0.4.8)\n",
            "Requirement already satisfied: oauthlib>=3.0.0 in /usr/local/lib/python3.8/dist-packages (from requests-oauthlib>=0.7.0->google-auth-oauthlib<0.5,>=0.4.1->tensorboard<2.12,>=2.11->tensorflow>=2.0->keras-tuner) (3.2.2)\n"
          ]
        }
      ],
      "source": [
        "!pip install keras-tuner --upgrade"
      ]
    },
    {
      "cell_type": "code",
      "execution_count": 31,
      "metadata": {
        "id": "QOzc3Jq3llB0"
      },
      "outputs": [],
      "source": [
        "import pandas as pd\n",
        "import numpy as np\n",
        "import matplotlib.pyplot as plt\n",
        "from sklearn.preprocessing import StandardScaler\n",
        "import keras\n",
        "import tensorflow as tf\n"
      ]
    },
    {
      "cell_type": "code",
      "source": [
        "from google.colab import drive\n",
        "drive.mount('/content/drive')"
      ],
      "metadata": {
        "colab": {
          "base_uri": "https://localhost:8080/"
        },
        "id": "C1UWdNywl1bL",
        "outputId": "d8cd1ee3-dbcc-49c2-9662-dff89c326bb1"
      },
      "execution_count": 4,
      "outputs": [
        {
          "output_type": "stream",
          "name": "stdout",
          "text": [
            "Mounted at /content/drive\n"
          ]
        }
      ]
    },
    {
      "cell_type": "code",
      "source": [
        "# Load the training dataset\n",
        "train_data = pd.read_csv('/content/drive/MyDrive/Leakage Detection/leakage_dataset_train_1000.csv')\n",
        "X_train = train_data.drop(['y1', 'y2'], axis=1).values\n",
        "Y_train = train_data[['y1', 'y2']].values\n",
        "\n",
        "# Adjust x4 values to correct for the malfunction\n",
        "X_train[:, 3] = X_train[:, 3] - np.mean(X_train[:, :3], axis=1)\n",
        "\n",
        "# Load the validation dataset\n",
        "val_data = pd.read_csv('/content/drive/MyDrive/Leakage Detection/leakage_dataset_validation_1000.csv')\n",
        "X_val = val_data.drop(['y1', 'y2'], axis=1).values\n",
        "Y_val = val_data[['y1', 'y2']].values"
      ],
      "metadata": {
        "id": "YpiVYk-ul8bt"
      },
      "execution_count": 9,
      "outputs": []
    },
    {
      "cell_type": "code",
      "source": [
        "# Create a figure with subplots\n",
        "fig, axs = plt.subplots(2, 2, figsize=(8, 8))\n",
        "\n",
        "# Create box plots for each sensor\n",
        "axs[0, 0].boxplot(X_train[:, 0])\n",
        "axs[0, 0].set_title('Sensor x1')\n",
        "axs[0, 1].boxplot(X_train[:, 1])\n",
        "axs[0, 1].set_title('Sensor x2')\n",
        "axs[1, 0].boxplot(X_train[:, 2])\n",
        "axs[1, 0].set_title('Sensor x3')\n",
        "axs[1, 1].boxplot(X_train[:, 3])\n",
        "axs[1, 1].set_title('Sensor x4')\n",
        "\n",
        "# Set y-axis label\n",
        "fig.text(0.04, 0.5, 'Values', va='center', rotation='vertical')\n",
        "\n",
        "# Set title of the figure\n",
        "fig.suptitle('Distribution of Sensor Values in Training Data')\n",
        "\n",
        "# Show the plot\n",
        "plt.show()"
      ],
      "metadata": {
        "colab": {
          "base_uri": "https://localhost:8080/",
          "height": 540
        },
        "id": "PjxIszRrmEgS",
        "outputId": "7286ad51-c4d8-4d5d-86b4-de701437436e"
      },
      "execution_count": 10,
      "outputs": [
        {
          "output_type": "display_data",
          "data": {
            "text/plain": [
              "<Figure size 576x576 with 4 Axes>"
            ],
            "image/png": "[encoded data removed]"
          },
          "metadata": {
            "needs_background": "light"
          }
        }
      ]
    },
    {
      "cell_type": "code",
      "source": [
        "# Standardize the data\n",
        "scaler = StandardScaler()\n",
        "X_train = scaler.fit_transform(X_train)\n",
        "X_val = scaler.transform(X_val)"
      ],
      "metadata": {
        "id": "aME3aRSQmI8K"
      },
      "execution_count": 11,
      "outputs": []
    },
    {
      "cell_type": "code",
      "source": [
        "from keras.models import Sequential\n",
        "from keras.layers import Dense\n",
        "from keras.optimizers import Adam\n",
        "\n",
        "# Define the hyperparameters\n",
        "epochs = 100\n",
        "batch_size = 32\n",
        "learning_rate = 0.001\n",
        "depth = 2\n",
        "width = 32\n",
        "\n",
        "# Build the model\n",
        "model = Sequential()\n",
        "model.add(Dense(width, input_dim=X_train.shape[1], activation='relu'))\n",
        "for i in range(depth - 1):\n",
        "    model.add(Dense(width, activation='relu'))\n",
        "model.add(Dense(2, activation='linear'))\n",
        "\n",
        "# Compile the model\n",
        "optimizer = Adam(learning_rate)\n",
        "model.compile(loss='mean_absolute_error', optimizer=optimizer, metrics=['accuracy'])\n",
        "\n",
        "# Train the model\n",
        "history = model.fit(X_train, Y_train, batch_size=batch_size, epochs=epochs, validation_data=(X_val, Y_val))\n",
        "\n",
        "# Save the model\n",
        "model.save('/content/drive/MyDrive/Leakage Detection/Final_models/model_standard_0.h5')"
      ],
      "metadata": {
        "colab": {
          "base_uri": "https://localhost:8080/"
        },
        "id": "8TD0K9KAmYvF",
        "outputId": "81135c85-412e-41a9-8175-e30afd15da27"
      },
      "execution_count": 12,
      "outputs": [
        {
          "output_type": "stream",
          "name": "stdout",
          "text": [
            "Epoch 1/100\n",
            "32/32 [==============================] - 1s 11ms/step - loss: 0.3363 - accuracy: 0.7580 - val_loss: 0.3482 - val_accuracy: 0.7220\n",
            "Epoch 2/100\n",
            "32/32 [==============================] - 0s 5ms/step - loss: 0.1641 - accuracy: 0.8430 - val_loss: 0.3018 - val_accuracy: 0.8090\n",
            "Epoch 3/100\n",
            "32/32 [==============================] - 0s 5ms/step - loss: 0.0921 - accuracy: 0.9240 - val_loss: 0.3634 - val_accuracy: 0.8830\n",
            "Epoch 4/100\n",
            "32/32 [==============================] - 0s 4ms/step - loss: 0.0754 - accuracy: 0.9430 - val_loss: 0.3498 - val_accuracy: 0.8660\n",
            "Epoch 5/100\n",
            "32/32 [==============================] - 0s 4ms/step - loss: 0.0670 - accuracy: 0.9480 - val_loss: 0.3608 - val_accuracy: 0.8700\n",
            "Epoch 6/100\n",
            "32/32 [==============================] - 0s 5ms/step - loss: 0.0644 - accuracy: 0.9420 - val_loss: 0.3724 - val_accuracy: 0.8660\n",
            "Epoch 7/100\n",
            "32/32 [==============================] - 0s 5ms/step - loss: 0.0626 - accuracy: 0.9410 - val_loss: 0.3346 - val_accuracy: 0.8680\n",
            "Epoch 8/100\n",
            "32/32 [==============================] - 0s 5ms/step - loss: 0.0625 - accuracy: 0.9410 - val_loss: 0.3432 - val_accuracy: 0.8720\n",
            "Epoch 9/100\n",
            "32/32 [==============================] - 0s 5ms/step - loss: 0.0640 - accuracy: 0.9320 - val_loss: 0.3395 - val_accuracy: 0.8650\n",
            "Epoch 10/100\n",
            "32/32 [==============================] - 0s 5ms/step - loss: 0.0595 - accuracy: 0.9390 - val_loss: 0.3526 - val_accuracy: 0.8800\n",
            "Epoch 11/100\n",
            "32/32 [==============================] - 0s 4ms/step - loss: 0.0590 - accuracy: 0.9420 - val_loss: 0.3519 - val_accuracy: 0.8790\n",
            "Epoch 12/100\n",
            "32/32 [==============================] - 0s 4ms/step - loss: 0.0586 - accuracy: 0.9410 - val_loss: 0.3523 - val_accuracy: 0.8800\n",
            "Epoch 13/100\n",
            "32/32 [==============================] - 0s 5ms/step - loss: 0.0599 - accuracy: 0.9390 - val_loss: 0.3542 - val_accuracy: 0.8670\n",
            "Epoch 14/100\n",
            "32/32 [==============================] - 0s 5ms/step - loss: 0.0582 - accuracy: 0.9410 - val_loss: 0.3425 - val_accuracy: 0.8760\n",
            "Epoch 15/100\n",
            "32/32 [==============================] - 0s 5ms/step - loss: 0.0574 - accuracy: 0.9470 - val_loss: 0.3676 - val_accuracy: 0.8780\n",
            "Epoch 16/100\n",
            "32/32 [==============================] - 0s 5ms/step - loss: 0.0571 - accuracy: 0.9430 - val_loss: 0.3423 - val_accuracy: 0.8840\n",
            "Epoch 17/100\n",
            "32/32 [==============================] - 0s 4ms/step - loss: 0.0553 - accuracy: 0.9380 - val_loss: 0.3510 - val_accuracy: 0.8800\n",
            "Epoch 18/100\n",
            "32/32 [==============================] - 0s 4ms/step - loss: 0.0560 - accuracy: 0.9440 - val_loss: 0.3592 - val_accuracy: 0.8670\n",
            "Epoch 19/100\n",
            "32/32 [==============================] - 0s 5ms/step - loss: 0.0553 - accuracy: 0.9380 - val_loss: 0.3562 - val_accuracy: 0.8690\n",
            "Epoch 20/100\n",
            "32/32 [==============================] - 0s 4ms/step - loss: 0.0555 - accuracy: 0.9440 - val_loss: 0.3477 - val_accuracy: 0.8790\n",
            "Epoch 21/100\n",
            "32/32 [==============================] - 0s 5ms/step - loss: 0.0548 - accuracy: 0.9340 - val_loss: 0.3493 - val_accuracy: 0.8690\n",
            "Epoch 22/100\n",
            "32/32 [==============================] - 0s 5ms/step - loss: 0.0534 - accuracy: 0.9440 - val_loss: 0.3532 - val_accuracy: 0.8650\n",
            "Epoch 23/100\n",
            "32/32 [==============================] - 0s 5ms/step - loss: 0.0548 - accuracy: 0.9440 - val_loss: 0.3623 - val_accuracy: 0.8660\n",
            "Epoch 24/100\n",
            "32/32 [==============================] - 0s 4ms/step - loss: 0.0536 - accuracy: 0.9500 - val_loss: 0.3600 - val_accuracy: 0.8670\n",
            "Epoch 25/100\n",
            "32/32 [==============================] - 0s 5ms/step - loss: 0.0530 - accuracy: 0.9450 - val_loss: 0.3472 - val_accuracy: 0.8820\n",
            "Epoch 26/100\n",
            "32/32 [==============================] - 0s 10ms/step - loss: 0.0547 - accuracy: 0.9440 - val_loss: 0.3600 - val_accuracy: 0.8650\n",
            "Epoch 27/100\n",
            "32/32 [==============================] - 0s 6ms/step - loss: 0.0529 - accuracy: 0.9480 - val_loss: 0.3475 - val_accuracy: 0.8710\n",
            "Epoch 28/100\n",
            "32/32 [==============================] - 0s 6ms/step - loss: 0.0531 - accuracy: 0.9460 - val_loss: 0.3513 - val_accuracy: 0.8700\n",
            "Epoch 29/100\n",
            "32/32 [==============================] - 0s 6ms/step - loss: 0.0519 - accuracy: 0.9400 - val_loss: 0.3702 - val_accuracy: 0.8650\n",
            "Epoch 30/100\n",
            "32/32 [==============================] - 0s 6ms/step - loss: 0.0526 - accuracy: 0.9470 - val_loss: 0.3494 - val_accuracy: 0.8830\n",
            "Epoch 31/100\n",
            "32/32 [==============================] - 0s 6ms/step - loss: 0.0536 - accuracy: 0.9430 - val_loss: 0.3500 - val_accuracy: 0.8650\n",
            "Epoch 32/100\n",
            "32/32 [==============================] - 0s 6ms/step - loss: 0.0524 - accuracy: 0.9460 - val_loss: 0.3608 - val_accuracy: 0.8680\n",
            "Epoch 33/100\n",
            "32/32 [==============================] - 0s 6ms/step - loss: 0.0529 - accuracy: 0.9440 - val_loss: 0.3467 - val_accuracy: 0.8690\n",
            "Epoch 34/100\n",
            "32/32 [==============================] - 0s 6ms/step - loss: 0.0518 - accuracy: 0.9470 - val_loss: 0.3405 - val_accuracy: 0.8690\n",
            "Epoch 35/100\n",
            "32/32 [==============================] - 0s 6ms/step - loss: 0.0529 - accuracy: 0.9460 - val_loss: 0.3480 - val_accuracy: 0.8730\n",
            "Epoch 36/100\n",
            "32/32 [==============================] - 0s 6ms/step - loss: 0.0542 - accuracy: 0.9530 - val_loss: 0.3595 - val_accuracy: 0.8740\n",
            "Epoch 37/100\n",
            "32/32 [==============================] - 0s 6ms/step - loss: 0.0521 - accuracy: 0.9450 - val_loss: 0.3555 - val_accuracy: 0.8770\n",
            "Epoch 38/100\n",
            "32/32 [==============================] - 0s 6ms/step - loss: 0.0512 - accuracy: 0.9510 - val_loss: 0.3344 - val_accuracy: 0.8760\n",
            "Epoch 39/100\n",
            "32/32 [==============================] - 0s 6ms/step - loss: 0.0537 - accuracy: 0.9500 - val_loss: 0.3679 - val_accuracy: 0.8770\n",
            "Epoch 40/100\n",
            "32/32 [==============================] - 0s 6ms/step - loss: 0.0528 - accuracy: 0.9450 - val_loss: 0.3447 - val_accuracy: 0.8610\n",
            "Epoch 41/100\n",
            "32/32 [==============================] - 0s 6ms/step - loss: 0.0522 - accuracy: 0.9500 - val_loss: 0.3580 - val_accuracy: 0.8730\n",
            "Epoch 42/100\n",
            "32/32 [==============================] - 0s 6ms/step - loss: 0.0508 - accuracy: 0.9500 - val_loss: 0.3531 - val_accuracy: 0.8690\n",
            "Epoch 43/100\n",
            "32/32 [==============================] - 0s 6ms/step - loss: 0.0511 - accuracy: 0.9440 - val_loss: 0.3514 - val_accuracy: 0.8740\n",
            "Epoch 44/100\n",
            "32/32 [==============================] - 0s 5ms/step - loss: 0.0511 - accuracy: 0.9530 - val_loss: 0.3462 - val_accuracy: 0.8690\n",
            "Epoch 45/100\n",
            "32/32 [==============================] - 0s 6ms/step - loss: 0.0516 - accuracy: 0.9480 - val_loss: 0.3596 - val_accuracy: 0.8850\n",
            "Epoch 46/100\n",
            "32/32 [==============================] - 0s 8ms/step - loss: 0.0500 - accuracy: 0.9470 - val_loss: 0.3513 - val_accuracy: 0.8670\n",
            "Epoch 47/100\n",
            "32/32 [==============================] - 0s 6ms/step - loss: 0.0508 - accuracy: 0.9510 - val_loss: 0.3605 - val_accuracy: 0.8780\n",
            "Epoch 48/100\n",
            "32/32 [==============================] - 0s 6ms/step - loss: 0.0504 - accuracy: 0.9500 - val_loss: 0.3290 - val_accuracy: 0.8800\n",
            "Epoch 49/100\n",
            "32/32 [==============================] - 0s 5ms/step - loss: 0.0513 - accuracy: 0.9470 - val_loss: 0.3477 - val_accuracy: 0.8760\n",
            "Epoch 50/100\n",
            "32/32 [==============================] - 0s 5ms/step - loss: 0.0505 - accuracy: 0.9490 - val_loss: 0.3480 - val_accuracy: 0.8710\n",
            "Epoch 51/100\n",
            "32/32 [==============================] - 0s 4ms/step - loss: 0.0498 - accuracy: 0.9470 - val_loss: 0.3463 - val_accuracy: 0.8840\n",
            "Epoch 52/100\n",
            "32/32 [==============================] - 0s 5ms/step - loss: 0.0494 - accuracy: 0.9550 - val_loss: 0.3561 - val_accuracy: 0.8640\n",
            "Epoch 53/100\n",
            "32/32 [==============================] - 0s 5ms/step - loss: 0.0497 - accuracy: 0.9520 - val_loss: 0.3611 - val_accuracy: 0.8830\n",
            "Epoch 54/100\n",
            "32/32 [==============================] - 0s 4ms/step - loss: 0.0507 - accuracy: 0.9530 - val_loss: 0.3472 - val_accuracy: 0.8700\n",
            "Epoch 55/100\n",
            "32/32 [==============================] - 0s 5ms/step - loss: 0.0516 - accuracy: 0.9440 - val_loss: 0.3610 - val_accuracy: 0.8690\n",
            "Epoch 56/100\n",
            "32/32 [==============================] - 0s 4ms/step - loss: 0.0503 - accuracy: 0.9440 - val_loss: 0.3383 - val_accuracy: 0.8720\n",
            "Epoch 57/100\n",
            "32/32 [==============================] - 0s 5ms/step - loss: 0.0496 - accuracy: 0.9470 - val_loss: 0.3467 - val_accuracy: 0.8770\n",
            "Epoch 58/100\n",
            "32/32 [==============================] - 0s 5ms/step - loss: 0.0503 - accuracy: 0.9440 - val_loss: 0.3517 - val_accuracy: 0.8620\n",
            "Epoch 59/100\n",
            "32/32 [==============================] - 0s 6ms/step - loss: 0.0497 - accuracy: 0.9400 - val_loss: 0.3473 - val_accuracy: 0.8760\n",
            "Epoch 60/100\n",
            "32/32 [==============================] - 0s 5ms/step - loss: 0.0501 - accuracy: 0.9520 - val_loss: 0.3405 - val_accuracy: 0.8810\n",
            "Epoch 61/100\n",
            "32/32 [==============================] - 0s 5ms/step - loss: 0.0502 - accuracy: 0.9480 - val_loss: 0.3622 - val_accuracy: 0.8760\n",
            "Epoch 62/100\n",
            "32/32 [==============================] - 0s 4ms/step - loss: 0.0514 - accuracy: 0.9480 - val_loss: 0.3380 - val_accuracy: 0.8730\n",
            "Epoch 63/100\n",
            "32/32 [==============================] - 0s 5ms/step - loss: 0.0507 - accuracy: 0.9480 - val_loss: 0.3564 - val_accuracy: 0.8880\n",
            "Epoch 64/100\n",
            "32/32 [==============================] - 0s 5ms/step - loss: 0.0510 - accuracy: 0.9440 - val_loss: 0.3361 - val_accuracy: 0.8810\n",
            "Epoch 65/100\n",
            "32/32 [==============================] - 0s 4ms/step - loss: 0.0504 - accuracy: 0.9420 - val_loss: 0.3540 - val_accuracy: 0.8660\n",
            "Epoch 66/100\n",
            "32/32 [==============================] - 0s 5ms/step - loss: 0.0505 - accuracy: 0.9430 - val_loss: 0.3503 - val_accuracy: 0.8810\n",
            "Epoch 67/100\n",
            "32/32 [==============================] - 0s 4ms/step - loss: 0.0493 - accuracy: 0.9370 - val_loss: 0.3658 - val_accuracy: 0.8750\n",
            "Epoch 68/100\n",
            "32/32 [==============================] - 0s 5ms/step - loss: 0.0508 - accuracy: 0.9460 - val_loss: 0.3574 - val_accuracy: 0.8660\n",
            "Epoch 69/100\n",
            "32/32 [==============================] - 0s 4ms/step - loss: 0.0491 - accuracy: 0.9460 - val_loss: 0.3516 - val_accuracy: 0.8720\n",
            "Epoch 70/100\n",
            "32/32 [==============================] - 0s 5ms/step - loss: 0.0498 - accuracy: 0.9470 - val_loss: 0.3397 - val_accuracy: 0.8810\n",
            "Epoch 71/100\n",
            "32/32 [==============================] - 0s 4ms/step - loss: 0.0501 - accuracy: 0.9450 - val_loss: 0.3328 - val_accuracy: 0.8760\n",
            "Epoch 72/100\n",
            "32/32 [==============================] - 0s 5ms/step - loss: 0.0493 - accuracy: 0.9500 - val_loss: 0.3580 - val_accuracy: 0.8660\n",
            "Epoch 73/100\n",
            "32/32 [==============================] - 0s 5ms/step - loss: 0.0493 - accuracy: 0.9460 - val_loss: 0.3511 - val_accuracy: 0.8740\n",
            "Epoch 74/100\n",
            "32/32 [==============================] - 0s 4ms/step - loss: 0.0489 - accuracy: 0.9510 - val_loss: 0.3558 - val_accuracy: 0.8630\n",
            "Epoch 75/100\n",
            "32/32 [==============================] - 0s 5ms/step - loss: 0.0497 - accuracy: 0.9410 - val_loss: 0.3473 - val_accuracy: 0.8840\n",
            "Epoch 76/100\n",
            "32/32 [==============================] - 0s 5ms/step - loss: 0.0495 - accuracy: 0.9480 - val_loss: 0.3502 - val_accuracy: 0.8770\n",
            "Epoch 77/100\n",
            "32/32 [==============================] - 0s 4ms/step - loss: 0.0485 - accuracy: 0.9490 - val_loss: 0.3503 - val_accuracy: 0.8780\n",
            "Epoch 78/100\n",
            "32/32 [==============================] - 0s 5ms/step - loss: 0.0482 - accuracy: 0.9510 - val_loss: 0.3608 - val_accuracy: 0.8770\n",
            "Epoch 79/100\n",
            "32/32 [==============================] - 0s 5ms/step - loss: 0.0493 - accuracy: 0.9470 - val_loss: 0.3479 - val_accuracy: 0.8630\n",
            "Epoch 80/100\n",
            "32/32 [==============================] - 0s 5ms/step - loss: 0.0497 - accuracy: 0.9480 - val_loss: 0.3529 - val_accuracy: 0.8750\n",
            "Epoch 81/100\n",
            "32/32 [==============================] - 0s 5ms/step - loss: 0.0486 - accuracy: 0.9510 - val_loss: 0.3535 - val_accuracy: 0.8820\n",
            "Epoch 82/100\n",
            "32/32 [==============================] - 0s 5ms/step - loss: 0.0488 - accuracy: 0.9510 - val_loss: 0.3393 - val_accuracy: 0.8760\n",
            "Epoch 83/100\n",
            "32/32 [==============================] - 0s 5ms/step - loss: 0.0489 - accuracy: 0.9490 - val_loss: 0.3397 - val_accuracy: 0.8760\n",
            "Epoch 84/100\n",
            "32/32 [==============================] - 0s 4ms/step - loss: 0.0495 - accuracy: 0.9510 - val_loss: 0.3458 - val_accuracy: 0.8710\n",
            "Epoch 85/100\n",
            "32/32 [==============================] - 0s 4ms/step - loss: 0.0485 - accuracy: 0.9500 - val_loss: 0.3512 - val_accuracy: 0.8710\n",
            "Epoch 86/100\n",
            "32/32 [==============================] - 0s 5ms/step - loss: 0.0473 - accuracy: 0.9490 - val_loss: 0.3473 - val_accuracy: 0.8800\n",
            "Epoch 87/100\n",
            "32/32 [==============================] - 0s 4ms/step - loss: 0.0478 - accuracy: 0.9520 - val_loss: 0.3562 - val_accuracy: 0.8620\n",
            "Epoch 88/100\n",
            "32/32 [==============================] - 0s 5ms/step - loss: 0.0500 - accuracy: 0.9470 - val_loss: 0.3500 - val_accuracy: 0.8740\n",
            "Epoch 89/100\n",
            "32/32 [==============================] - 0s 5ms/step - loss: 0.0482 - accuracy: 0.9450 - val_loss: 0.3568 - val_accuracy: 0.8860\n",
            "Epoch 90/100\n",
            "32/32 [==============================] - 0s 5ms/step - loss: 0.0480 - accuracy: 0.9490 - val_loss: 0.3617 - val_accuracy: 0.8770\n",
            "Epoch 91/100\n",
            "32/32 [==============================] - 0s 4ms/step - loss: 0.0503 - accuracy: 0.9460 - val_loss: 0.3427 - val_accuracy: 0.8900\n",
            "Epoch 92/100\n",
            "32/32 [==============================] - 0s 5ms/step - loss: 0.0482 - accuracy: 0.9480 - val_loss: 0.3453 - val_accuracy: 0.8660\n",
            "Epoch 93/100\n",
            "32/32 [==============================] - 0s 4ms/step - loss: 0.0500 - accuracy: 0.9480 - val_loss: 0.3528 - val_accuracy: 0.8760\n",
            "Epoch 94/100\n",
            "32/32 [==============================] - 0s 5ms/step - loss: 0.0483 - accuracy: 0.9540 - val_loss: 0.3485 - val_accuracy: 0.8800\n",
            "Epoch 95/100\n",
            "32/32 [==============================] - 0s 5ms/step - loss: 0.0483 - accuracy: 0.9470 - val_loss: 0.3641 - val_accuracy: 0.8730\n",
            "Epoch 96/100\n",
            "32/32 [==============================] - 0s 4ms/step - loss: 0.0488 - accuracy: 0.9470 - val_loss: 0.3426 - val_accuracy: 0.8970\n",
            "Epoch 97/100\n",
            "32/32 [==============================] - 0s 4ms/step - loss: 0.0476 - accuracy: 0.9520 - val_loss: 0.3490 - val_accuracy: 0.8690\n",
            "Epoch 98/100\n",
            "32/32 [==============================] - 0s 5ms/step - loss: 0.0488 - accuracy: 0.9450 - val_loss: 0.3411 - val_accuracy: 0.8960\n",
            "Epoch 99/100\n",
            "32/32 [==============================] - 0s 5ms/step - loss: 0.0483 - accuracy: 0.9470 - val_loss: 0.3486 - val_accuracy: 0.8760\n",
            "Epoch 100/100\n",
            "32/32 [==============================] - 0s 5ms/step - loss: 0.0479 - accuracy: 0.9480 - val_loss: 0.3521 - val_accuracy: 0.8940\n"
          ]
        }
      ]
    },
    {
      "cell_type": "code",
      "source": [
        "from keras.models import load_model\n",
        "\n",
        "# Load the trained model\n",
        "model = load_model('/content/drive/MyDrive/Leakage Detection/Final_models/model_standard_0.h5')\n",
        "\n",
        "# Make predictions on new data\n",
        "X_new = [[1.51622149e+00, -5.42255062e-01, -6.40267721e-01,\n",
        "        -2.32916509e-01]]\n",
        "predictions = model.predict(X_new)\n",
        "\n",
        "\n",
        "y1_predictions = predictions[:,0]\n",
        "y2_predictions = predictions[:,1]\n"
      ],
      "metadata": {
        "colab": {
          "base_uri": "https://localhost:8080/"
        },
        "id": "jW4FW_Rwmn7e",
        "outputId": "c51a9def-90fe-4da0-f2e3-175041bb73a2"
      },
      "execution_count": 14,
      "outputs": [
        {
          "output_type": "stream",
          "name": "stdout",
          "text": [
            "1/1 [==============================] - 0s 79ms/step\n"
          ]
        }
      ]
    },
    {
      "cell_type": "code",
      "source": [
        "y1_predictions, y2_predictions\n",
        "#Actual values [-0.71571846,  0.31258276]"
      ],
      "metadata": {
        "colab": {
          "base_uri": "https://localhost:8080/"
        },
        "id": "UjvXBj4zm1ye",
        "outputId": "b8fa10c0-1fc9-4ef3-8d25-3ccff4efe9e7"
      },
      "execution_count": 15,
      "outputs": [
        {
          "output_type": "execute_result",
          "data": {
            "text/plain": [
              "(array([-0.67262894], dtype=float32), array([0.33399275], dtype=float32))"
            ]
          },
          "metadata": {},
          "execution_count": 15
        }
      ]
    },
    {
      "cell_type": "code",
      "source": [],
      "metadata": {
        "id": "VUrlflFHm65h"
      },
      "execution_count": null,
      "outputs": []
    },
    {
      "cell_type": "markdown",
      "source": [
        "Hyperparameter Tuning"
      ],
      "metadata": {
        "id": "Fy-d2u_Em9ch"
      }
    },
    {
      "cell_type": "code",
      "source": [
        "import kerastuner as kt\n",
        "\n",
        "# Define the search space for the hyperparameters\n",
        "def build_model(hp):\n",
        "    model = Sequential()\n",
        "    model.add(Dense(hp.Int('width', min_value=32, max_value=512, step=32), input_dim=X_train.shape[1], activation='relu'))\n",
        "    for i in range(hp.Int('depth', 1, 5) - 1):\n",
        "        model.add(Dense(hp.Int('width', min_value=32, max_value=512, step=32), activation='relu'))\n",
        "    model.add(Dense(2, activation='linear'))\n",
        "    model.compile(loss='mean_absolute_error',metrics=['accuracy'],optimizer=Adam(hp.Choice('learning_rate', values=[1e-2, 1e-3, 1e-4])))\n",
        "    return model\n",
        "\n",
        "# Create a tuner\n",
        "tuner = kt.Hyperband(build_model, objective='val_loss', max_epochs=100, factor=3, directory='my_dir', project_name='my_project')\n",
        "\n",
        "# Search for the best hyperparameters\n",
        "tuner.search(X_train, Y_train, validation_data=(X_val, Y_val))\n",
        "\n",
        "# Get the best model\n",
        "best_model = tuner.get_best_models(num_models=1)[0]\n",
        "\n",
        "# Save the best model\n",
        "best_model.save('/content/drive/MyDrive/Leakage Detection/Final_models/model_standard_1.h5')\n"
      ],
      "metadata": {
        "colab": {
          "base_uri": "https://localhost:8080/"
        },
        "id": "2lrTKMLYnAT5",
        "outputId": "f09a5f77-3ca2-40ad-b059-fd54da2a15d1"
      },
      "execution_count": 16,
      "outputs": [
        {
          "output_type": "stream",
          "name": "stdout",
          "text": [
            "Trial 254 Complete [00h 00m 23s]\n",
            "val_loss: 0.2464475929737091\n",
            "\n",
            "Best val_loss So Far: 0.17419447004795074\n",
            "Total elapsed time: 00h 25m 03s\n"
          ]
        }
      ]
    },
    {
      "cell_type": "code",
      "source": [
        "# Load the trained model\n",
        "model = load_model('/content/drive/MyDrive/Leakage Detection/Final_models/model_standard_1.h5')\n",
        "\n",
        "# Make predictions on new data\n",
        "X_new = [[9.81493155e-01, -3.10622537e-01, -3.61754939e-01,\n",
        "        -2.30459658e-01]]\n",
        "predictions = model.predict(X_new)\n",
        "\n",
        "y1_predictions = predictions[:,0]\n",
        "y2_predictions = predictions[:,1]"
      ],
      "metadata": {
        "colab": {
          "base_uri": "https://localhost:8080/"
        },
        "id": "pUT8te5NnIH6",
        "outputId": "c3be7f3f-26d5-4814-8c74-c6af439c45dc"
      },
      "execution_count": 18,
      "outputs": [
        {
          "output_type": "stream",
          "name": "stderr",
          "text": [
            "WARNING:tensorflow:Error in loading the saved optimizer state. As a result, your model is starting with a freshly initialized optimizer.\n"
          ]
        },
        {
          "output_type": "stream",
          "name": "stdout",
          "text": [
            "1/1 [==============================] - 0s 126ms/step\n"
          ]
        }
      ]
    },
    {
      "cell_type": "code",
      "source": [
        "y1_predictions, y2_predictions\n",
        "#Actual values  [-0.40606274,  0.29526814]"
      ],
      "metadata": {
        "colab": {
          "base_uri": "https://localhost:8080/"
        },
        "id": "Q7Nijg85s8HB",
        "outputId": "c71769a3-fbe1-4532-f6ff-d962da3adcc7"
      },
      "execution_count": 19,
      "outputs": [
        {
          "output_type": "execute_result",
          "data": {
            "text/plain": [
              "(array([-0.3299892], dtype=float32), array([0.43579534], dtype=float32))"
            ]
          },
          "metadata": {},
          "execution_count": 19
        }
      ]
    },
    {
      "cell_type": "markdown",
      "source": [
        "Augment the dataset. Each training example (x,y) can be comple- mented by seven additional virtual examples as illustrated in Figure 1. Clockwise rotations and flips on input data x are obtained as described above. A clockwise rotation on output data y is obtained through y90 = (y2,−y1) and a flip along the vertical axis on the same data is represented by yflipped = (−y1,y2). All other operations (rotation an- gles and associated flips) can be computed by subsequent application of these two operations.\n"
      ],
      "metadata": {
        "id": "npbymTmxtHfE"
      }
    },
    {
      "cell_type": "code",
      "source": [
        "\n",
        "def augment_data(X_train, Y_train):\n",
        "    # 90 degree rotation\n",
        "    X_train_rotated_90 = np.rot90(X_train, k=1, axes=(1,0))\n",
        "    Y_train_rotated_90 = np.fliplr(Y_train) * np.array([-1, 1])\n",
        "    print(X_train_rotated_90.shape,Y_train_rotated_90.shape)\n",
        "\n",
        "    # 180 degree rotation\n",
        "    X_train_rotated_180 = np.rot90(X_train, k=2, axes=(1,0))\n",
        "    Y_train_rotated_180 = Y_train * np.array([-1, -1])\n",
        "    print(X_train_rotated_180.shape,Y_train_rotated_180.shape)\n",
        "\n",
        "\n",
        "    # 270 degree rotation\n",
        "    X_train_rotated_270 = np.rot90(X_train, k=3, axes=(1,0))\n",
        "    Y_train_rotated_270 = np.fliplr(Y_train) * np.array([1, -1])\n",
        "    print(X_train_rotated_270.shape,Y_train_rotated_270.shape)\n",
        "\n",
        "    # flip\n",
        "    X_train_flipped = np.fliplr(X_train)\n",
        "    Y_train_flipped = Y_train * np.array([-1, 1])    \n",
        "    print(X_train_flipped.shape,Y_train_flipped.shape)\n",
        "\n",
        "    \n",
        "    # 90 degree rotation and flip\n",
        "    X_train_rotated_90_flipped = np.rot90(X_train_flipped, k=1, axes=(1,0))\n",
        "    Y_train_rotated_90_flipped = np.fliplr(Y_train_flipped) * np.array([-1, 1])\n",
        "    print(X_train_rotated_90_flipped.shape,Y_train_rotated_90_flipped.shape)\n",
        "\n",
        "    # 180 degree rotation and flip\n",
        "    X_train_rotated_180_flipped = np.rot90(X_train_flipped, k=2, axes=(1,0))\n",
        "    Y_train_rotated_180_flipped = Y_train_flipped * np.array([-1, -1])\n",
        "    print(X_train_rotated_180_flipped.shape,Y_train_rotated_180_flipped.shape)\n",
        "\n",
        "    # 270 degree rotation and flip\n",
        "    X_train_rotated_270_flipped = np.rot90(X_train_flipped, k=3, axes=(1,0))\n",
        "    Y_train_rotated_270_flipped = np.fliplr(Y_train_flipped) * np.array([1, -1])\n",
        "    print(X_train_rotated_270_flipped.shape,Y_train_rotated_270_flipped.shape)\n",
        "\n",
        "\n",
        "    X_augmented = np.concatenate((X_train, X_train_rotated_90.reshape(1000,4), X_train_rotated_180, X_train_rotated_270.reshape(1000,4), X_train_flipped,\n",
        "                                  X_train_rotated_90_flipped.reshape(1000,4), X_train_rotated_180_flipped, X_train_rotated_270_flipped.reshape(1000,4)), axis=0)\n",
        "    Y_augmented = np.concatenate((Y_train, Y_train_rotated_90, Y_train_rotated_180, Y_train_rotated_270, Y_train_flipped,\n",
        "                                  Y_train_rotated_90_flipped, Y_train_rotated_180_flipped, Y_train_rotated_270_flipped), axis=0)\n",
        "    return X_augmented, Y_augmented\n"
      ],
      "metadata": {
        "id": "agi-xLQttFC3"
      },
      "execution_count": 22,
      "outputs": []
    },
    {
      "cell_type": "code",
      "source": [
        "X_train_augmented, Y_train_augmented = augment_data(X_train, Y_train)"
      ],
      "metadata": {
        "colab": {
          "base_uri": "https://localhost:8080/"
        },
        "id": "zAYQlbm6tJ3H",
        "outputId": "8a5343fc-02f2-4894-9816-29a97a396e21"
      },
      "execution_count": 23,
      "outputs": [
        {
          "output_type": "stream",
          "name": "stdout",
          "text": [
            "(4, 1000) (1000, 2)\n",
            "(1000, 4) (1000, 2)\n",
            "(4, 1000) (1000, 2)\n",
            "(1000, 4) (1000, 2)\n",
            "(4, 1000) (1000, 2)\n",
            "(1000, 4) (1000, 2)\n",
            "(4, 1000) (1000, 2)\n"
          ]
        }
      ]
    },
    {
      "cell_type": "code",
      "source": [
        "\n",
        "# Define the search space for the hyperparameters\n",
        "def build_model(hp):\n",
        "    model = Sequential()\n",
        "    model.add(Dense(hp.Int('width', min_value=32, max_value=512, step=32), input_dim=X_train.shape[1], activation='relu'))\n",
        "    for i in range(hp.Int('depth', 1, 5) - 1):\n",
        "        model.add(Dense(hp.Int('width', min_value=32, max_value=512, step=32), activation='relu'))\n",
        "    model.add(Dense(2, activation='linear'))\n",
        "    model.compile(loss='mean_absolute_error',metrics = ['accuracy'], optimizer=Adam(hp.Choice('learning_rate', values=[1e-2, 1e-3, 1e-4])))\n",
        "    return model\n",
        "\n",
        "# Create a tuner\n",
        "tuner = kt.Hyperband(build_model, objective='val_loss', max_epochs=100, factor=3, directory='my_dir_2', project_name='my_project')\n",
        "\n",
        "# Search for the best hyperparameters\n",
        "tuner.search(X_train_augmented, Y_train_augmented, validation_data=(X_val, Y_val))\n",
        "\n",
        "# Get the best model\n",
        "best_model = tuner.get_best_models(num_models=1)[0]\n",
        "\n",
        "# Save the best model\n",
        "best_model.save('/content/drive/MyDrive/Leakage Detection/Final_models/model_standard_2.h5')\n"
      ],
      "metadata": {
        "colab": {
          "base_uri": "https://localhost:8080/"
        },
        "id": "sBXF8MaGtLXu",
        "outputId": "8ffcf7e4-8daa-4938-e538-82fd5cd1e6d5"
      },
      "execution_count": 24,
      "outputs": [
        {
          "output_type": "stream",
          "name": "stdout",
          "text": [
            "Trial 254 Complete [00h 01m 23s]\n",
            "val_loss: 0.43796664476394653\n",
            "\n",
            "Best val_loss So Far: 0.2976060211658478\n",
            "Total elapsed time: 01h 24m 16s\n"
          ]
        },
        {
          "output_type": "stream",
          "name": "stderr",
          "text": [
            "WARNING:tensorflow:Detecting that an object or model or tf.train.Checkpoint is being deleted with unrestored values. See the following logs for the specific values in question. To silence these warnings, use `status.expect_partial()`. See https://www.tensorflow.org/api_docs/python/tf/train/Checkpoint#restorefor details about the status object returned by the restore function.\n",
            "WARNING:tensorflow:Value in checkpoint could not be found in the restored object: (root).optimizer.iter\n",
            "WARNING:tensorflow:Value in checkpoint could not be found in the restored object: (root).optimizer.beta_1\n",
            "WARNING:tensorflow:Value in checkpoint could not be found in the restored object: (root).optimizer.beta_2\n",
            "WARNING:tensorflow:Value in checkpoint could not be found in the restored object: (root).optimizer.decay\n",
            "WARNING:tensorflow:Value in checkpoint could not be found in the restored object: (root).optimizer.learning_rate\n"
          ]
        }
      ]
    },
    {
      "cell_type": "code",
      "source": [
        "# Load the trained model\n",
        "model = load_model('/content/drive/MyDrive/Leakage Detection/Final_models/model_standard_2.h5')\n",
        "\n",
        "# Make predictions on new data\n",
        "X_new = [[9.81493155e-01, -3.10622537e-01, -3.61754939e-01,\n",
        "        -2.30459658e-01]]\n",
        "predictions = model.predict(X_new)\n",
        "y1_predictions = predictions[:,0]\n",
        "y2_predictions = predictions[:,1]"
      ],
      "metadata": {
        "colab": {
          "base_uri": "https://localhost:8080/"
        },
        "id": "8g-XY0ZXtbsi",
        "outputId": "a1375bb3-0402-4457-bfc3-cfc3c430a9a5"
      },
      "execution_count": 27,
      "outputs": [
        {
          "output_type": "stream",
          "name": "stderr",
          "text": [
            "WARNING:tensorflow:Error in loading the saved optimizer state. As a result, your model is starting with a freshly initialized optimizer.\n",
            "WARNING:tensorflow:6 out of the last 6 calls to <function Model.make_predict_function.<locals>.predict_function at 0x7f451e2f84c0> triggered tf.function retracing. Tracing is expensive and the excessive number of tracings could be due to (1) creating @tf.function repeatedly in a loop, (2) passing tensors with different shapes, (3) passing Python objects instead of tensors. For (1), please define your @tf.function outside of the loop. For (2), @tf.function has reduce_retracing=True option that can avoid unnecessary retracing. For (3), please refer to https://www.tensorflow.org/guide/function#controlling_retracing and https://www.tensorflow.org/api_docs/python/tf/function for  more details.\n"
          ]
        },
        {
          "output_type": "stream",
          "name": "stdout",
          "text": [
            "1/1 [==============================] - 0s 134ms/step\n"
          ]
        }
      ]
    },
    {
      "cell_type": "code",
      "source": [
        "y1_predictions, y2_predictions\n",
        "#Actual values  [-0.40606274,  0.29526814]"
      ],
      "metadata": {
        "colab": {
          "base_uri": "https://localhost:8080/"
        },
        "id": "3C0LJqbg0VZo",
        "outputId": "e7d3fcc6-214b-4720-9b62-6925256e27b1"
      },
      "execution_count": 28,
      "outputs": [
        {
          "output_type": "execute_result",
          "data": {
            "text/plain": [
              "(array([-0.03584344], dtype=float32), array([-0.02380597], dtype=float32))"
            ]
          },
          "metadata": {},
          "execution_count": 28
        }
      ]
    },
    {
      "cell_type": "code",
      "source": [
        "class EquivariantHiddenLayer(keras.layers.Layer):\n",
        "  def _init_(self,name =None,**kwargs):\n",
        "    super(EquivariantHiddenLayer, self)._init_(**kwargs)\n",
        "    \n",
        "  def build(self, input_shape):\n",
        "    initializer = tf.keras.initializers.RandomNormal(stddev=0.2)\n",
        "    self.a = self.add_weight(name='w1',shape = (), initializer = initializer, trainable = True)\n",
        "    self.b = self.add_weight(name='w2',shape = (), initializer = initializer, trainable = True)\n",
        "    self.c = self.add_weight(name='w3',shape = (), initializer = initializer, trainable = True)\n",
        "\n",
        "  def call(self, inputs):\n",
        "    W1 = [[self.a, self.b, self.c, self.b],\n",
        "          [self.b, self.a, self.b, self.c],\n",
        "          [self.c, self.b, self.a, self.b],\n",
        "          [self.b, self.c, self.b, self.a]]\n",
        "    return tf.matmul(inputs, W1)\n",
        "\t\n",
        " \n",
        "class EquivariantOutputLayer(keras.layers.Layer):\n",
        "  def _init_(self, **kwargs):\n",
        "    super(EquivariantOutputLayer, self)._init_(**kwargs)\n",
        "\n",
        "  def build(self, input_shape):\n",
        "    initializer = tf.keras.initializers.RandomNormal(stddev=0.2)\n",
        "    self.d = self.add_weight(name = \"o1\", shape = (), initializer = initializer, trainable = True)\n",
        "        \n",
        "  def call(self, inputs):\n",
        "    first_term = self.d * tf.reduce_sum(inputs * [1, -1, -1, 1], axis=1, keepdims=True)\n",
        "    second_term = self.d * tf.reduce_sum(inputs * [-1, -1, 1, 1], axis=1, keepdims=True)\n",
        "    return tf.concat([first_term, second_term], axis=1)"
      ],
      "metadata": {
        "id": "yMzHSS7K0XGV"
      },
      "execution_count": 32,
      "outputs": []
    },
    {
      "cell_type": "code",
      "source": [
        "# Define the hyperparameters\n",
        "epochs = 50\n",
        "batch_size = 32\n",
        "learning_rate = 0.01\n",
        "depth = 2\n",
        "width = 32\n",
        " \n",
        "#Defining the Model \n",
        "model_equivariant_100 = tf.keras.Sequential()\n",
        "model_equivariant_100.add(EquivariantHiddenLayer())\n",
        "model_equivariant_100.add(EquivariantOutputLayer())\n",
        "model_equivariant_100.compile(optimizer = Adam(0.01), loss='mean_absolute_error', metrics = [\"accuracy\"])\n",
        "# Train the model\n",
        "history = model_equivariant_100.fit(X_train, Y_train, batch_size=batch_size, epochs=epochs, validation_data=(X_val, Y_val))\n",
        "\n",
        "# Save the model\n",
        "model.save('/content/drive/MyDrive/Leakage Detection/Final_models/model_equivariant_3.h5')"
      ],
      "metadata": {
        "colab": {
          "base_uri": "https://localhost:8080/"
        },
        "id": "IUr1HWXq0fzL",
        "outputId": "7aa6acda-632d-4907-9c0e-a23a2555c767"
      },
      "execution_count": 33,
      "outputs": [
        {
          "output_type": "stream",
          "name": "stdout",
          "text": [
            "Epoch 1/50\n"
          ]
        },
        {
          "output_type": "stream",
          "name": "stderr",
          "text": [
            "/usr/local/lib/python3.8/dist-packages/keras/initializers/initializers_v2.py:120: UserWarning: The initializer RandomNormal is unseeded and being called multiple times, which will return identical values  each time (even if the initializer is unseeded). Please update your code to provide a seed to the initializer, or avoid using the same initalizer instance more than once.\n",
            "  warnings.warn(\n"
          ]
        },
        {
          "output_type": "stream",
          "name": "stdout",
          "text": [
            "32/32 [==============================] - 2s 14ms/step - loss: 0.3745 - accuracy: 0.9270 - val_loss: 0.2629 - val_accuracy: 0.9490\n",
            "Epoch 2/50\n",
            "32/32 [==============================] - 0s 6ms/step - loss: 0.1251 - accuracy: 0.9440 - val_loss: 0.2531 - val_accuracy: 0.9490\n",
            "Epoch 3/50\n",
            "32/32 [==============================] - 0s 5ms/step - loss: 0.1125 - accuracy: 0.9440 - val_loss: 0.2643 - val_accuracy: 0.9490\n",
            "Epoch 4/50\n",
            "32/32 [==============================] - 0s 5ms/step - loss: 0.1131 - accuracy: 0.9440 - val_loss: 0.2650 - val_accuracy: 0.9490\n",
            "Epoch 5/50\n",
            "32/32 [==============================] - 0s 5ms/step - loss: 0.1129 - accuracy: 0.9440 - val_loss: 0.2589 - val_accuracy: 0.9490\n",
            "Epoch 6/50\n",
            "32/32 [==============================] - 0s 5ms/step - loss: 0.1125 - accuracy: 0.9440 - val_loss: 0.2581 - val_accuracy: 0.9490\n",
            "Epoch 7/50\n",
            "32/32 [==============================] - 0s 5ms/step - loss: 0.1117 - accuracy: 0.9440 - val_loss: 0.2569 - val_accuracy: 0.9490\n",
            "Epoch 8/50\n",
            "32/32 [==============================] - 0s 5ms/step - loss: 0.1116 - accuracy: 0.9440 - val_loss: 0.2500 - val_accuracy: 0.9490\n",
            "Epoch 9/50\n",
            "32/32 [==============================] - 0s 5ms/step - loss: 0.1125 - accuracy: 0.9440 - val_loss: 0.2651 - val_accuracy: 0.9490\n",
            "Epoch 10/50\n",
            "32/32 [==============================] - 0s 5ms/step - loss: 0.1118 - accuracy: 0.9440 - val_loss: 0.2559 - val_accuracy: 0.9490\n",
            "Epoch 11/50\n",
            "32/32 [==============================] - 0s 5ms/step - loss: 0.1122 - accuracy: 0.9440 - val_loss: 0.2559 - val_accuracy: 0.9490\n",
            "Epoch 12/50\n",
            "32/32 [==============================] - 0s 5ms/step - loss: 0.1120 - accuracy: 0.9440 - val_loss: 0.2629 - val_accuracy: 0.9490\n",
            "Epoch 13/50\n",
            "32/32 [==============================] - 0s 5ms/step - loss: 0.1125 - accuracy: 0.9440 - val_loss: 0.2515 - val_accuracy: 0.9490\n",
            "Epoch 14/50\n",
            "32/32 [==============================] - 0s 6ms/step - loss: 0.1121 - accuracy: 0.9440 - val_loss: 0.2653 - val_accuracy: 0.9490\n",
            "Epoch 15/50\n",
            "32/32 [==============================] - 0s 5ms/step - loss: 0.1122 - accuracy: 0.9440 - val_loss: 0.2558 - val_accuracy: 0.9490\n",
            "Epoch 16/50\n",
            "32/32 [==============================] - 0s 5ms/step - loss: 0.1117 - accuracy: 0.9440 - val_loss: 0.2611 - val_accuracy: 0.9490\n",
            "Epoch 17/50\n",
            "32/32 [==============================] - 0s 5ms/step - loss: 0.1117 - accuracy: 0.9440 - val_loss: 0.2541 - val_accuracy: 0.9490\n",
            "Epoch 18/50\n",
            "32/32 [==============================] - 0s 5ms/step - loss: 0.1119 - accuracy: 0.9440 - val_loss: 0.2652 - val_accuracy: 0.9490\n",
            "Epoch 19/50\n",
            "32/32 [==============================] - 0s 5ms/step - loss: 0.1120 - accuracy: 0.9440 - val_loss: 0.2587 - val_accuracy: 0.9490\n",
            "Epoch 20/50\n",
            "32/32 [==============================] - 0s 5ms/step - loss: 0.1123 - accuracy: 0.9440 - val_loss: 0.2722 - val_accuracy: 0.9490\n",
            "Epoch 21/50\n",
            "32/32 [==============================] - 0s 6ms/step - loss: 0.1121 - accuracy: 0.9440 - val_loss: 0.2468 - val_accuracy: 0.9490\n",
            "Epoch 22/50\n",
            "32/32 [==============================] - 0s 5ms/step - loss: 0.1133 - accuracy: 0.9440 - val_loss: 0.2559 - val_accuracy: 0.9490\n",
            "Epoch 23/50\n",
            "32/32 [==============================] - 0s 5ms/step - loss: 0.1120 - accuracy: 0.9440 - val_loss: 0.2459 - val_accuracy: 0.9490\n",
            "Epoch 24/50\n",
            "32/32 [==============================] - 0s 6ms/step - loss: 0.1126 - accuracy: 0.9440 - val_loss: 0.2471 - val_accuracy: 0.9490\n",
            "Epoch 25/50\n",
            "32/32 [==============================] - 0s 5ms/step - loss: 0.1116 - accuracy: 0.9440 - val_loss: 0.2506 - val_accuracy: 0.9490\n",
            "Epoch 26/50\n",
            "32/32 [==============================] - 0s 5ms/step - loss: 0.1134 - accuracy: 0.9440 - val_loss: 0.2723 - val_accuracy: 0.9490\n",
            "Epoch 27/50\n",
            "32/32 [==============================] - 0s 5ms/step - loss: 0.1122 - accuracy: 0.9440 - val_loss: 0.2599 - val_accuracy: 0.9490\n",
            "Epoch 28/50\n",
            "32/32 [==============================] - 0s 4ms/step - loss: 0.1122 - accuracy: 0.9440 - val_loss: 0.2545 - val_accuracy: 0.9490\n",
            "Epoch 29/50\n",
            "32/32 [==============================] - 0s 5ms/step - loss: 0.1120 - accuracy: 0.9440 - val_loss: 0.2681 - val_accuracy: 0.9490\n",
            "Epoch 30/50\n",
            "32/32 [==============================] - 0s 5ms/step - loss: 0.1130 - accuracy: 0.9440 - val_loss: 0.2523 - val_accuracy: 0.9490\n",
            "Epoch 31/50\n",
            "32/32 [==============================] - 0s 5ms/step - loss: 0.1122 - accuracy: 0.9440 - val_loss: 0.2515 - val_accuracy: 0.9490\n",
            "Epoch 32/50\n",
            "32/32 [==============================] - 0s 5ms/step - loss: 0.1122 - accuracy: 0.9440 - val_loss: 0.2687 - val_accuracy: 0.9490\n",
            "Epoch 33/50\n",
            "32/32 [==============================] - 0s 5ms/step - loss: 0.1128 - accuracy: 0.9440 - val_loss: 0.2599 - val_accuracy: 0.9490\n",
            "Epoch 34/50\n",
            "32/32 [==============================] - 0s 4ms/step - loss: 0.1127 - accuracy: 0.9440 - val_loss: 0.2507 - val_accuracy: 0.9490\n",
            "Epoch 35/50\n",
            "32/32 [==============================] - 0s 5ms/step - loss: 0.1120 - accuracy: 0.9440 - val_loss: 0.2501 - val_accuracy: 0.9490\n",
            "Epoch 36/50\n",
            "32/32 [==============================] - 0s 5ms/step - loss: 0.1118 - accuracy: 0.9440 - val_loss: 0.2556 - val_accuracy: 0.9490\n",
            "Epoch 37/50\n",
            "32/32 [==============================] - 0s 5ms/step - loss: 0.1123 - accuracy: 0.9440 - val_loss: 0.2626 - val_accuracy: 0.9490\n",
            "Epoch 38/50\n",
            "32/32 [==============================] - 0s 5ms/step - loss: 0.1127 - accuracy: 0.9440 - val_loss: 0.2791 - val_accuracy: 0.9490\n",
            "Epoch 39/50\n",
            "32/32 [==============================] - 0s 5ms/step - loss: 0.1136 - accuracy: 0.9440 - val_loss: 0.2526 - val_accuracy: 0.9490\n",
            "Epoch 40/50\n",
            "32/32 [==============================] - 0s 5ms/step - loss: 0.1122 - accuracy: 0.9440 - val_loss: 0.2564 - val_accuracy: 0.9490\n",
            "Epoch 41/50\n",
            "32/32 [==============================] - 0s 5ms/step - loss: 0.1124 - accuracy: 0.9440 - val_loss: 0.2514 - val_accuracy: 0.9490\n",
            "Epoch 42/50\n",
            "32/32 [==============================] - 0s 6ms/step - loss: 0.1118 - accuracy: 0.9440 - val_loss: 0.2513 - val_accuracy: 0.9490\n",
            "Epoch 43/50\n",
            "32/32 [==============================] - 0s 5ms/step - loss: 0.1122 - accuracy: 0.9440 - val_loss: 0.2638 - val_accuracy: 0.9490\n",
            "Epoch 44/50\n",
            "32/32 [==============================] - 0s 8ms/step - loss: 0.1120 - accuracy: 0.9440 - val_loss: 0.2585 - val_accuracy: 0.9490\n",
            "Epoch 45/50\n",
            "32/32 [==============================] - 0s 7ms/step - loss: 0.1116 - accuracy: 0.9440 - val_loss: 0.2643 - val_accuracy: 0.9490\n",
            "Epoch 46/50\n",
            "32/32 [==============================] - 0s 8ms/step - loss: 0.1133 - accuracy: 0.9440 - val_loss: 0.2585 - val_accuracy: 0.9490\n",
            "Epoch 47/50\n",
            "32/32 [==============================] - 0s 7ms/step - loss: 0.1129 - accuracy: 0.9440 - val_loss: 0.2697 - val_accuracy: 0.9490\n",
            "Epoch 48/50\n",
            "32/32 [==============================] - 0s 10ms/step - loss: 0.1125 - accuracy: 0.9440 - val_loss: 0.2474 - val_accuracy: 0.9490\n",
            "Epoch 49/50\n",
            "32/32 [==============================] - 0s 9ms/step - loss: 0.1128 - accuracy: 0.9440 - val_loss: 0.2618 - val_accuracy: 0.9490\n",
            "Epoch 50/50\n",
            "32/32 [==============================] - 0s 7ms/step - loss: 0.1124 - accuracy: 0.9440 - val_loss: 0.2584 - val_accuracy: 0.9490\n"
          ]
        }
      ]
    },
    {
      "cell_type": "code",
      "source": [
        "# Training the model for Augmented Dataset\n",
        "history = model_equivariant_100.fit(X_train_augmented, Y_train_augmented, batch_size=batch_size, epochs=epochs, validation_data=(X_val, Y_val))\n",
        "\n",
        "# Save the model\n",
        "model.save('/content/drive/MyDrive/Leakage Detection/Final_models/model_equivariant_4_augmented.h5')"
      ],
      "metadata": {
        "colab": {
          "base_uri": "https://localhost:8080/"
        },
        "id": "egX8y-mS0heF",
        "outputId": "23b948df-1b2d-44f0-9aa6-5715827a8ba0"
      },
      "execution_count": 34,
      "outputs": [
        {
          "output_type": "stream",
          "name": "stdout",
          "text": [
            "Epoch 1/50\n",
            "250/250 [==============================] - 1s 3ms/step - loss: 0.5091 - accuracy: 0.5067 - val_loss: 0.4882 - val_accuracy: 0.9490\n",
            "Epoch 2/50\n",
            "250/250 [==============================] - 1s 2ms/step - loss: 0.5052 - accuracy: 0.5067 - val_loss: 0.4905 - val_accuracy: 0.9490\n",
            "Epoch 3/50\n",
            "250/250 [==============================] - 1s 3ms/step - loss: 0.5052 - accuracy: 0.5067 - val_loss: 0.4922 - val_accuracy: 0.9490\n",
            "Epoch 4/50\n",
            "250/250 [==============================] - 1s 2ms/step - loss: 0.5052 - accuracy: 0.5067 - val_loss: 0.4958 - val_accuracy: 0.9490\n",
            "Epoch 5/50\n",
            "250/250 [==============================] - 1s 2ms/step - loss: 0.5052 - accuracy: 0.5067 - val_loss: 0.4976 - val_accuracy: 0.9490\n",
            "Epoch 6/50\n",
            "250/250 [==============================] - 1s 2ms/step - loss: 0.5052 - accuracy: 0.5067 - val_loss: 0.4986 - val_accuracy: 0.9490\n",
            "Epoch 7/50\n",
            "250/250 [==============================] - 1s 2ms/step - loss: 0.5052 - accuracy: 0.5067 - val_loss: 0.4988 - val_accuracy: 0.9490\n",
            "Epoch 8/50\n",
            "250/250 [==============================] - 1s 2ms/step - loss: 0.5052 - accuracy: 0.5067 - val_loss: 0.4993 - val_accuracy: 0.9490\n",
            "Epoch 9/50\n",
            "250/250 [==============================] - 1s 2ms/step - loss: 0.5052 - accuracy: 0.5067 - val_loss: 0.4998 - val_accuracy: 0.9490\n",
            "Epoch 10/50\n",
            "250/250 [==============================] - 1s 3ms/step - loss: 0.5052 - accuracy: 0.5067 - val_loss: 0.5002 - val_accuracy: 0.9490\n",
            "Epoch 11/50\n",
            "250/250 [==============================] - 1s 4ms/step - loss: 0.5052 - accuracy: 0.5067 - val_loss: 0.5004 - val_accuracy: 0.9490\n",
            "Epoch 12/50\n",
            "250/250 [==============================] - 1s 4ms/step - loss: 0.5052 - accuracy: 0.5067 - val_loss: 0.5004 - val_accuracy: 0.9490\n",
            "Epoch 13/50\n",
            "250/250 [==============================] - 1s 4ms/step - loss: 0.5052 - accuracy: 0.5069 - val_loss: 0.5004 - val_accuracy: 0.9500\n",
            "Epoch 14/50\n",
            "250/250 [==============================] - 1s 4ms/step - loss: 0.5052 - accuracy: 0.5066 - val_loss: 0.5004 - val_accuracy: 0.9500\n",
            "Epoch 15/50\n",
            "250/250 [==============================] - 1s 3ms/step - loss: 0.5052 - accuracy: 0.5065 - val_loss: 0.5004 - val_accuracy: 0.9450\n",
            "Epoch 16/50\n",
            "250/250 [==============================] - 1s 2ms/step - loss: 0.5052 - accuracy: 0.5011 - val_loss: 0.5004 - val_accuracy: 0.9390\n",
            "Epoch 17/50\n",
            "250/250 [==============================] - 1s 2ms/step - loss: 0.5052 - accuracy: 0.4958 - val_loss: 0.5004 - val_accuracy: 0.7910\n",
            "Epoch 18/50\n",
            "250/250 [==============================] - 1s 2ms/step - loss: 0.5052 - accuracy: 0.4890 - val_loss: 0.5004 - val_accuracy: 0.9250\n",
            "Epoch 19/50\n",
            "250/250 [==============================] - 1s 2ms/step - loss: 0.5052 - accuracy: 0.4911 - val_loss: 0.5004 - val_accuracy: 0.0840\n",
            "Epoch 20/50\n",
            "250/250 [==============================] - 1s 2ms/step - loss: 0.5052 - accuracy: 0.5061 - val_loss: 0.5004 - val_accuracy: 0.1170\n",
            "Epoch 21/50\n",
            "250/250 [==============================] - 1s 2ms/step - loss: 0.5052 - accuracy: 0.4988 - val_loss: 0.5004 - val_accuracy: 0.8870\n",
            "Epoch 22/50\n",
            "250/250 [==============================] - 1s 2ms/step - loss: 0.5052 - accuracy: 0.5016 - val_loss: 0.5004 - val_accuracy: 0.9500\n",
            "Epoch 23/50\n",
            "250/250 [==============================] - 1s 2ms/step - loss: 0.5052 - accuracy: 0.5075 - val_loss: 0.5004 - val_accuracy: 0.9260\n",
            "Epoch 24/50\n",
            "250/250 [==============================] - 1s 2ms/step - loss: 0.5052 - accuracy: 0.5069 - val_loss: 0.5004 - val_accuracy: 0.9520\n",
            "Epoch 25/50\n",
            "250/250 [==============================] - 1s 2ms/step - loss: 0.5052 - accuracy: 0.5121 - val_loss: 0.5004 - val_accuracy: 0.9500\n",
            "Epoch 26/50\n",
            "250/250 [==============================] - 1s 2ms/step - loss: 0.5052 - accuracy: 0.5064 - val_loss: 0.5004 - val_accuracy: 0.9490\n",
            "Epoch 27/50\n",
            "250/250 [==============================] - 1s 2ms/step - loss: 0.5052 - accuracy: 0.5073 - val_loss: 0.5003 - val_accuracy: 0.9490\n",
            "Epoch 28/50\n",
            "250/250 [==============================] - 1s 2ms/step - loss: 0.5052 - accuracy: 0.5067 - val_loss: 0.4943 - val_accuracy: 0.9490\n",
            "Epoch 29/50\n",
            "250/250 [==============================] - 1s 2ms/step - loss: 0.5052 - accuracy: 0.5020 - val_loss: 0.5004 - val_accuracy: 0.0500\n",
            "Epoch 30/50\n",
            "250/250 [==============================] - 1s 3ms/step - loss: 0.5052 - accuracy: 0.4885 - val_loss: 0.5004 - val_accuracy: 0.0510\n",
            "Epoch 31/50\n",
            "250/250 [==============================] - 1s 2ms/step - loss: 0.5052 - accuracy: 0.4890 - val_loss: 0.5004 - val_accuracy: 0.0520\n",
            "Epoch 32/50\n",
            "250/250 [==============================] - 1s 4ms/step - loss: 0.5052 - accuracy: 0.5015 - val_loss: 0.5004 - val_accuracy: 0.9490\n",
            "Epoch 33/50\n",
            "250/250 [==============================] - 1s 3ms/step - loss: 0.5052 - accuracy: 0.4974 - val_loss: 0.4987 - val_accuracy: 0.9490\n",
            "Epoch 34/50\n",
            "250/250 [==============================] - 1s 3ms/step - loss: 0.5052 - accuracy: 0.5067 - val_loss: 0.5004 - val_accuracy: 0.9490\n",
            "Epoch 35/50\n",
            "250/250 [==============================] - 1s 3ms/step - loss: 0.5052 - accuracy: 0.5070 - val_loss: 0.5004 - val_accuracy: 0.9490\n",
            "Epoch 36/50\n",
            "250/250 [==============================] - 1s 4ms/step - loss: 0.5052 - accuracy: 0.5035 - val_loss: 0.5004 - val_accuracy: 0.9490\n",
            "Epoch 37/50\n",
            "250/250 [==============================] - 1s 3ms/step - loss: 0.5052 - accuracy: 0.5065 - val_loss: 0.5004 - val_accuracy: 0.9490\n",
            "Epoch 38/50\n",
            "250/250 [==============================] - 1s 2ms/step - loss: 0.5052 - accuracy: 0.5066 - val_loss: 0.5004 - val_accuracy: 0.9490\n",
            "Epoch 39/50\n",
            "250/250 [==============================] - 1s 2ms/step - loss: 0.5052 - accuracy: 0.5064 - val_loss: 0.5004 - val_accuracy: 0.9490\n",
            "Epoch 40/50\n",
            "250/250 [==============================] - 1s 2ms/step - loss: 0.5051 - accuracy: 0.5095 - val_loss: 0.5004 - val_accuracy: 0.9490\n",
            "Epoch 41/50\n",
            "250/250 [==============================] - 1s 2ms/step - loss: 0.5052 - accuracy: 0.4877 - val_loss: 0.5002 - val_accuracy: 0.9490\n",
            "Epoch 42/50\n",
            "250/250 [==============================] - 1s 2ms/step - loss: 0.5053 - accuracy: 0.5066 - val_loss: 0.5003 - val_accuracy: 0.9490\n",
            "Epoch 43/50\n",
            "250/250 [==============================] - 1s 2ms/step - loss: 0.5052 - accuracy: 0.5067 - val_loss: 0.5000 - val_accuracy: 0.9490\n",
            "Epoch 44/50\n",
            "250/250 [==============================] - 1s 2ms/step - loss: 0.5052 - accuracy: 0.5052 - val_loss: 0.5004 - val_accuracy: 0.9500\n",
            "Epoch 45/50\n",
            "250/250 [==============================] - 1s 2ms/step - loss: 0.5052 - accuracy: 0.5050 - val_loss: 0.5004 - val_accuracy: 0.9490\n",
            "Epoch 46/50\n",
            "250/250 [==============================] - 1s 2ms/step - loss: 0.5052 - accuracy: 0.5067 - val_loss: 0.5004 - val_accuracy: 0.9500\n",
            "Epoch 47/50\n",
            "250/250 [==============================] - 1s 2ms/step - loss: 0.5052 - accuracy: 0.5039 - val_loss: 0.5004 - val_accuracy: 0.9520\n",
            "Epoch 48/50\n",
            "250/250 [==============================] - 1s 2ms/step - loss: 0.5052 - accuracy: 0.4983 - val_loss: 0.5004 - val_accuracy: 0.9470\n",
            "Epoch 49/50\n",
            "250/250 [==============================] - 1s 2ms/step - loss: 0.5052 - accuracy: 0.5011 - val_loss: 0.5004 - val_accuracy: 0.9520\n",
            "Epoch 50/50\n",
            "250/250 [==============================] - 1s 3ms/step - loss: 0.5052 - accuracy: 0.5042 - val_loss: 0.5004 - val_accuracy: 0.9490\n"
          ]
        }
      ]
    },
    {
      "cell_type": "code",
      "source": [
        "import matplotlib.pyplot as plt\n",
        "import numpy as np\n",
        "\n",
        "# Define the test sets\n",
        "test_set_1 = np.array([[0.125, 0.25, 0.375, 0.25], [0.375, 0.25, 0.125, 0.25]])\n",
        "test_set_2 = np.array([[0.25, 0.125, 0.25, 0.375], [0.25, 0.375, 0.25, 0.125]])\n",
        "\n",
        "# Load the models\n",
        "model_standard = keras.models.load_model('/content/drive/MyDrive/Leakage Detection/Final_models/model_standard_1.h5')\n",
        "model_standard_aug = keras.models.load_model('/content/drive/MyDrive/Leakage Detection/Final_models/model_standard_2.h5')\n",
        "\n",
        "# load the saved weights\n",
        "model_equivariant = keras.models.load_model('/content/drive/MyDrive/Leakage Detection/Final_models/model_equivariant_3.h5')\n",
        "model_equivariant_aug = keras.models.load_model('/content/drive/MyDrive/Leakage Detection/Final_models/model_equivariant_4_augmented.h5')\n",
        "\n",
        "\n",
        "\n",
        "#model_equivariant_aug.load_weights('/content/drive/MyDrive/Leakage Detection/model_equivariant_4_augmented.h5')\n",
        "\n",
        "# Make predictions on the test sets\n",
        "pred_standard = model_standard.predict(test_set_1)\n",
        "pred_standard_aug = model_standard_aug.predict(test_set_1)\n",
        "pred_equivariant = model_equivariant.predict(test_set_1)\n",
        "pred_equivariant_aug = model_equivariant_aug.predict(test_set_1)\n",
        "\n",
        "# Plot the predictions\n",
        "fig, axs = plt.subplots(2, 2, figsize=(10, 10))\n",
        "fig.suptitle('Model predictions on test set 1')\n",
        "axs[0, 0].scatter(test_set_1[:, 0], test_set_1[:, 2])\n",
        "axs[0, 0].scatter(pred_standard[:, 0], pred_standard[:, 1])\n",
        "axs[0, 0].set_title('Standard model')\n",
        "axs[0, 1].scatter(test_set_1[:, 0], test_set_1[:, 2])\n",
        "axs[0, 1].scatter(pred_standard_aug[:, 0], pred_standard_aug[:, 1])\n",
        "axs[0, 1].set_title('Standard model with augmentation')\n",
        "axs[1, 0].scatter(test_set_1[:, 0], test_set_1[:, 2])\n",
        "axs[1, 0].scatter(pred_equivariant[:, 0], pred_equivariant[:, 1])\n",
        "axs[1, 0].set_title('Equivariant model')\n",
        "axs[1, 1].scatter(test_set_1[:, 0], test_set_1[:, 2])\n",
        "axs[1, 1].scatter(pred_equivariant_aug[:, 0], pred_equivariant_aug[:, 1])\n",
        "axs[1, 1].set_title('Equivariant model with augmentation')\n",
        "plt.show()\n"
      ],
      "metadata": {
        "colab": {
          "base_uri": "https://localhost:8080/",
          "height": 773
        },
        "id": "HglsQ8Be0h9s",
        "outputId": "4736ed5a-6fd9-4894-b82c-fe3087fcd7d2"
      },
      "execution_count": 35,
      "outputs": [
        {
          "output_type": "stream",
          "name": "stderr",
          "text": [
            "WARNING:tensorflow:Error in loading the saved optimizer state. As a result, your model is starting with a freshly initialized optimizer.\n",
            "WARNING:tensorflow:Error in loading the saved optimizer state. As a result, your model is starting with a freshly initialized optimizer.\n"
          ]
        },
        {
          "output_type": "stream",
          "name": "stdout",
          "text": [
            "1/1 [==============================] - 0s 108ms/step\n",
            "1/1 [==============================] - 0s 75ms/step\n",
            "1/1 [==============================] - 0s 81ms/step\n",
            "1/1 [==============================] - 0s 87ms/step\n"
          ]
        },
        {
          "output_type": "display_data",
          "data": {
            "text/plain": [
              "<Figure size 720x720 with 4 Axes>"
            ],
            "image/png": "[encoded data removed]"
          },
          "metadata": {
            "needs_background": "light"
          }
        }
      ]
    },
    {
      "cell_type": "code",
      "source": [],
      "metadata": {
        "id": "CrXPa8_C0iA9"
      },
      "execution_count": null,
      "outputs": []
    },
    {
      "cell_type": "code",
      "source": [],
      "metadata": {
        "id": "9s4OoptO0iIW"
      },
      "execution_count": null,
      "outputs": []
    }
  ],
  "metadata": {
    "colab": {
      "provenance": []
    },
    "gpuClass": "standard",
    "kernelspec": {
      "display_name": "Python 3",
      "name": "python3"
    },
    "language_info": {
      "name": "python"
    }
  },
  "nbformat": 4,
  "nbformat_minor": 0
}